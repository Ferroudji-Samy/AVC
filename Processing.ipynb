{
 "cells": [
  {
   "cell_type": "code",
   "execution_count": 4,
   "metadata": {},
   "outputs": [],
   "source": [
    "import pandas as pd"
   ]
  },
  {
   "cell_type": "code",
   "execution_count": 8,
   "metadata": {},
   "outputs": [],
   "source": [
    "def processing(path):\n",
    "\n",
    "    df_avc = pd.read_csv(path)\n",
    "    df_avc.columns = ['Id','Genre','Age', 'Hypertension', 'Maladie_cardiaque', 'Deja_marie', 'Type_job', 'Zone_residence', 'Glycemie', 'IMC', 'Fumeur', 'AVC']\n",
    "\n",
    "    #Remplacement des valeurs en chaine de caractères en int\n",
    "\n",
    "    #Homme = 0, Femme = 1, Autre = 2\n",
    "    df_avc.Genre = df_avc.Genre.replace('Male', 0)\n",
    "    df_avc.Genre = df_avc.Genre.replace('Female', 1)\n",
    "    df_avc.Genre = df_avc.Genre.replace('Other', 2)\n",
    "\n",
    "    #Déjà marié : 0 => non; 1=> oui\n",
    "    df_avc.Deja_marie = df_avc.Deja_marie.replace('No', 0)\n",
    "    df_avc.Deja_marie = df_avc.Deja_marie.replace('Yes', 1)\n",
    "\n",
    "    #Type de travail : Secteur privé (0), Secteur public (1),\n",
    "    # Auto-entrepreneur (2), enfant (3), jamais travaillé (4)\n",
    "    df_avc.Type_job = df_avc.Type_job.replace('Private', 0)\n",
    "    df_avc.Type_job = df_avc.Type_job.replace('Govt_job', 1)\n",
    "    df_avc.Type_job = df_avc.Type_job.replace('Self-employed', 2)\n",
    "    df_avc.Type_job = df_avc.Type_job.replace('children', 3)\n",
    "    df_avc.Type_job = df_avc.Type_job.replace('Never_worked', 4)\n",
    "\n",
    "    #Zone résidentielle : Urbain (0), Rural (2)\n",
    "    df_avc.Zone_residence = df_avc.Zone_residence.replace('Urban', 0)\n",
    "    df_avc.Zone_residence = df_avc.Zone_residence.replace('Rural', 1)\n",
    "\n",
    "    #Fumeur : Jamais fumé (0), Ancien fumeur (1), Fumeur (2), inconnu (3)\n",
    "    df_avc.Fumeur = df_avc.Fumeur.replace('never smoked', 0)\n",
    "    df_avc.Fumeur = df_avc.Fumeur.replace('formerly smoked', 1)\n",
    "    df_avc.Fumeur = df_avc.Fumeur.replace('smokes', 2)\n",
    "    df_avc.Fumeur = df_avc.Fumeur.replace('Unknown', 3)\n",
    "\n",
    "    #df_avc = df_avc.dropna()\n",
    "\n",
    "    return df_avc"
   ]
  },
  {
   "cell_type": "code",
   "execution_count": 20,
   "metadata": {},
   "outputs": [
    {
     "data": {
      "text/plain": [
       "Id     Genre  Age    Hypertension  Maladie_cardiaque  Deja_marie  Type_job  Zone_residence  Glycemie  IMC    Fumeur  AVC  \n",
       "False  False  False  False         False              False       False     False           False     False  False   False    4909\n",
       "                                                                                                      True   False   False     201\n",
       "dtype: int64"
      ]
     },
     "execution_count": 20,
     "metadata": {},
     "output_type": "execute_result"
    }
   ],
   "source": [
    "df = processing(\"healthcare-dataset-stroke-data.csv\")\n",
    "df.isna().value_counts()"
   ]
  }
 ],
 "metadata": {
  "kernelspec": {
   "display_name": "Python 3",
   "language": "python",
   "name": "python3"
  },
  "language_info": {
   "codemirror_mode": {
    "name": "ipython",
    "version": 3
   },
   "file_extension": ".py",
   "mimetype": "text/x-python",
   "name": "python",
   "nbconvert_exporter": "python",
   "pygments_lexer": "ipython3",
   "version": "3.8.5"
  }
 },
 "nbformat": 4,
 "nbformat_minor": 4
}
